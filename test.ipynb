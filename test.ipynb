{
 "cells": [
  {
   "cell_type": "code",
   "execution_count": 17,
   "metadata": {},
   "outputs": [],
   "source": [
    "import torch\n",
    "\n",
    "def co_dice_loss(pred,\n",
    "              target,\n",
    "              weight=None,\n",
    "              eps=1e-3,\n",
    "              reduction='mean',\n",
    "              naive_dice=False,\n",
    "              avg_factor=None):\n",
    "    \"\"\"Calculate co dice loss, there are two forms of dice loss is supported:\n",
    "\n",
    "        - the one proposed in `V-Net: Fully Convolutional Neural\n",
    "            Networks for Volumetric Medical Image Segmentation\n",
    "            <https://arxiv.org/abs/1606.04797>`_.\n",
    "        - the dice loss in which the power of the number in the\n",
    "            denominator is the first power instead of the second\n",
    "            power.\n",
    "\n",
    "    Args:\n",
    "        pred (torch.Tensor): The prediction, has a shape (n, *)\n",
    "        target (torch.Tensor): The learning label of the prediction,\n",
    "            shape (n, *), same shape of pred.\n",
    "        weight (torch.Tensor, optional): The weight of loss for each\n",
    "            prediction, has a shape (n,). Defaults to None.\n",
    "        eps (float): Avoid dividing by zero. Default: 1e-3.\n",
    "        reduction (str, optional): The method used to reduce the loss into\n",
    "            a scalar. Defaults to 'mean'.\n",
    "            Options are \"none\", \"mean\" and \"sum\".\n",
    "        naive_dice (bool, optional): If false, use the dice\n",
    "                loss defined in the V-Net paper, otherwise, use the\n",
    "                naive dice loss in which the power of the number in the\n",
    "                denominator is the first power instead of the second\n",
    "                power.Defaults to False.\n",
    "        avg_factor (int, optional): Average factor that is used to average\n",
    "            the loss. Defaults to None.\n",
    "    \"\"\"\n",
    "\n",
    "    input = pred.flatten(1)\n",
    "    target = target.flatten(1).float()\n",
    "\n",
    "    a = torch.matmul(input, target.t())\n",
    "    if naive_dice:\n",
    "        b = torch.sum(input, 1).view(1, -1)\n",
    "        c = torch.sum(target, 1).view(1, -1)\n",
    "        d = (2 * a + eps) / (b + c.t() + eps)\n",
    "    else:\n",
    "        b = torch.sum(input * input, 1) + eps\n",
    "        c = torch.sum(target * target, 1) + eps\n",
    "        d = (2 * a) / (b + c.t())\n",
    "    \n",
    "    return d"
   ]
  },
  {
   "cell_type": "code",
   "execution_count": 18,
   "metadata": {},
   "outputs": [],
   "source": [
    "pred = torch.rand(size = (100, 64,64))"
   ]
  },
  {
   "cell_type": "code",
   "execution_count": 19,
   "metadata": {},
   "outputs": [],
   "source": [
    "from mmdet.models.losses.co_mask_dice_loss import co_dice_loss"
   ]
  },
  {
   "cell_type": "code",
   "execution_count": 20,
   "metadata": {},
   "outputs": [
    {
     "data": {
      "text/plain": [
       "tensor(0.7425)"
      ]
     },
     "execution_count": 20,
     "metadata": {},
     "output_type": "execute_result"
    }
   ],
   "source": [
    "co_dice_loss(pred)"
   ]
  }
 ],
 "metadata": {
  "kernelspec": {
   "display_name": "Python 3.9.5 ('dl')",
   "language": "python",
   "name": "python3"
  },
  "language_info": {
   "codemirror_mode": {
    "name": "ipython",
    "version": 3
   },
   "file_extension": ".py",
   "mimetype": "text/x-python",
   "name": "python",
   "nbconvert_exporter": "python",
   "pygments_lexer": "ipython3",
   "version": "3.9.5"
  },
  "orig_nbformat": 4,
  "vscode": {
   "interpreter": {
    "hash": "ddb6ac1274766aae8d48ea24c2a86f46ae3ad795c594d0c816246e36b08c5206"
   }
  }
 },
 "nbformat": 4,
 "nbformat_minor": 2
}
